{
  "nbformat": 4,
  "nbformat_minor": 0,
  "metadata": {
    "colab": {
      "name": "python_paramiko_example.ipynb",
      "provenance": [],
      "collapsed_sections": [],
      "authorship_tag": "ABX9TyOREf9mGCpB5ImZ5QnHBiub",
      "include_colab_link": true
    },
    "kernelspec": {
      "name": "python3",
      "display_name": "Python 3"
    },
    "language_info": {
      "name": "python"
    }
  },
  "cells": [
    {
      "cell_type": "markdown",
      "metadata": {
        "id": "view-in-github",
        "colab_type": "text"
      },
      "source": [
        "<a href=\"https://colab.research.google.com/github/shseo-ai/python_paramiko_example/blob/main/python_paramiko_example.ipynb\" target=\"_parent\"><img src=\"https://colab.research.google.com/assets/colab-badge.svg\" alt=\"Open In Colab\"/></a>"
      ]
    },
    {
      "cell_type": "code",
      "metadata": {
        "colab": {
          "base_uri": "https://localhost:8080/"
        },
        "id": "D0oUKI_LqPQX",
        "outputId": "ebd21f14-52aa-4cb4-afcb-002cc1f5cb64"
      },
      "source": [
        "!pip install paramiko\n",
        "import paramiko"
      ],
      "execution_count": 2,
      "outputs": [
        {
          "output_type": "stream",
          "text": [
            "Collecting paramiko\n",
            "\u001b[?25l  Downloading https://files.pythonhosted.org/packages/95/19/124e9287b43e6ff3ebb9cdea3e5e8e88475a873c05ccdf8b7e20d2c4201e/paramiko-2.7.2-py2.py3-none-any.whl (206kB)\n",
            "\u001b[K     |████████████████████████████████| 215kB 4.3MB/s \n",
            "\u001b[?25hCollecting pynacl>=1.0.1\n",
            "\u001b[?25l  Downloading https://files.pythonhosted.org/packages/9d/57/2f5e6226a674b2bcb6db531e8b383079b678df5b10cdaa610d6cf20d77ba/PyNaCl-1.4.0-cp35-abi3-manylinux1_x86_64.whl (961kB)\n",
            "\u001b[K     |████████████████████████████████| 962kB 6.2MB/s \n",
            "\u001b[?25hCollecting cryptography>=2.5\n",
            "\u001b[?25l  Downloading https://files.pythonhosted.org/packages/f8/1f/acde6ff69864c5e78b56488e3afd93c1ccc8c2651186e2a5f93d93f64859/cryptography-3.4.6-cp36-abi3-manylinux2014_x86_64.whl (3.2MB)\n",
            "\u001b[K     |████████████████████████████████| 3.2MB 11.4MB/s \n",
            "\u001b[?25hCollecting bcrypt>=3.1.3\n",
            "\u001b[?25l  Downloading https://files.pythonhosted.org/packages/26/70/6d218afbe4c73538053c1016dd631e8f25fffc10cd01f5c272d7acf3c03d/bcrypt-3.2.0-cp36-abi3-manylinux2010_x86_64.whl (63kB)\n",
            "\u001b[K     |████████████████████████████████| 71kB 4.0MB/s \n",
            "\u001b[?25hRequirement already satisfied: six in /usr/local/lib/python3.7/dist-packages (from pynacl>=1.0.1->paramiko) (1.15.0)\n",
            "Requirement already satisfied: cffi>=1.4.1 in /usr/local/lib/python3.7/dist-packages (from pynacl>=1.0.1->paramiko) (1.14.5)\n",
            "Requirement already satisfied: pycparser in /usr/local/lib/python3.7/dist-packages (from cffi>=1.4.1->pynacl>=1.0.1->paramiko) (2.20)\n",
            "Installing collected packages: pynacl, cryptography, bcrypt, paramiko\n",
            "Successfully installed bcrypt-3.2.0 cryptography-3.4.6 paramiko-2.7.2 pynacl-1.4.0\n"
          ],
          "name": "stdout"
        }
      ]
    },
    {
      "cell_type": "code",
      "metadata": {
        "colab": {
          "base_uri": "https://localhost:8080/"
        },
        "id": "PhoQBkh5tibh",
        "outputId": "dea88c53-b4be-4b55-da85-73cc70121436"
      },
      "source": [
        "ssh = paramiko.SSHClient()\n",
        "ssh.set_missing_host_key_policy(paramiko.AutoAddPolicy())\n",
        "ssh.connect(hostname='', port='', username='shseo', password='') # input your configuration argument\n",
        "print('ssh connected...')\n",
        "\n",
        "cmd = 'ls -al'\n",
        "stdin, stdout, stderr = ssh.exec_command(cmd)\n",
        "print(''.join(stdout.readlines()))\n",
        "\n",
        "ssh.close()\n",
        "print('ssh closed...')"
      ],
      "execution_count": 17,
      "outputs": [
        {
          "output_type": "stream",
          "text": [
            "ssh connected...\n",
            "total 1264\n",
            "drwxr-xr-x 36 shseo shseo   4096  3월 21 01:33 .\n",
            "drwxr-xr-x  3 root  root    4096 11월  9  2019 ..\n",
            "-rw-------  1 shseo shseo   5736  3월 11 17:00 .ICEauthority\n",
            "-rw-------  1 shseo shseo    186  3월 11 17:00 .Xauthority\n",
            "-rw-------  1 shseo shseo 185418  3월 21 01:31 .bash_history\n",
            "-rw-r--r--  1 shseo shseo    220 11월  9  2019 .bash_logout\n",
            "-rw-r--r--  1 shseo shseo   4246 11월  9  2019 .bashrc\n",
            "drwx------ 21 shseo shseo   4096  3월 21 01:30 .cache\n",
            "drwxrwxr-x  2 shseo shseo   4096 11월  9  2019 .conda\n",
            "drwx------ 18 shseo shseo   4096 11월 10  2019 .config\n",
            "-rw-rw-r--  1 shseo shseo    119 12월 12  2019 .gitconfig\n",
            "drwx------  3 shseo shseo   4096 11월  9  2019 .gnupg\n",
            "drwxrwxr-x  2 shseo shseo   4096 11월 18  2019 .imageio\n",
            "drwxr-xr-x  5 shseo shseo   4096 11월 11  2019 .ipython\n",
            "drwxrwxr-x  3 shseo shseo   4096 11월 11  2019 .jupyter\n",
            "drwxrwxr-x  2 shseo shseo   4096  4월  3  2020 .kaggle\n",
            "drwxrwxr-x  3 shseo shseo   4096  4월  1  2020 .keras\n",
            "drwx------  4 shseo shseo   4096 11월 10  2019 .local\n",
            "drwx------  5 shseo shseo   4096 11월  9  2019 .mozilla\n",
            "drwx------  3 shseo shseo   4096 11월  9  2019 .nv\n",
            "drwxrwxrwt  2 shseo shseo   4096  3월 11 16:57 .pcsc12\n",
            "drwx------  3 shseo shseo   4096 11월  9  2019 .pki\n",
            "-rw-r--r--  1 shseo shseo    807 11월  9  2019 .profile\n",
            "drwxrwxr-x  2 shseo shseo  12288 10월 15 03:00 .pylint.d\n",
            "-rw-------  1 shseo shseo    718 10월 14 15:23 .python_history\n",
            "drwxrwxr-x  3 shseo shseo   4096 10월 14 18:08 .pytorch_pretrained_bert\n",
            "drwx------  2 shseo shseo   4096 11월  9  2019 .ssh\n",
            "-rw-r--r--  1 shseo shseo      0 11월  9  2019 .sudo_as_admin_successful\n",
            "drwxrwxr-x  4 shseo shseo   4096  5월 15  2020 .theano\n",
            "drwxrwxr-x  3 shseo shseo   4096 12월 16  2019 .visdom\n",
            "drwxrwxr-x  3 shseo shseo   4096 11월  9  2019 .vscode\n",
            "drwxrwxr-x  5 shseo shseo   4096  3월 21 00:10 .vscode-server\n",
            "-rw-rw-r--  1 shseo shseo    262  3월 21 00:10 .wget-hsts\n",
            "-rw-rw-r--  1 shseo shseo    131 11월  9  2019 .xinputrc\n",
            "-rw-r--r--  1 shseo shseo  75074  3월 23 05:53 .xorgxrdp.10.log\n",
            "-rw-r--r--  1 shseo shseo 123481  2월 27 13:25 .xorgxrdp.10.log.old\n",
            "-rw-r--r--  1 shseo shseo  20153  3월  7 17:56 .xorgxrdp.11.log\n",
            "-rw-r--r--  1 shseo shseo  43371  3월 11 16:58 .xorgxrdp.12.log\n",
            "-rw-r--r--  1 shseo shseo     13 11월  9  2019 .xsession\n",
            "-rw-------  1 shseo shseo 597135  3월 23 05:59 .xsession-errors\n",
            "drwxrwxr-x 26 shseo shseo   4096  1월 14  2020 anaconda3\n",
            "-rw-rw-r--  1 shseo shseo   2940  9월 19  2018 cuda-repo-ubuntu1804_10.0.130-1_amd64.deb\n",
            "-rw-r--r--  1 shseo shseo   8980 11월  9  2019 examples.desktop\n",
            "-rw-rw-r--  1 shseo shseo   2926  5월 11  2019 nvidia-machine-learning-repo-ubuntu1804_1.0.0-1_amd64.deb\n",
            "drwxrwxr-x  2 shseo shseo   4096 12월 29  2019 seaborn-data\n",
            "drwxrwxr-x  3 shseo shseo   4096 11월  9  2019 shseo_projects\n",
            "drwxr-xr-x  5 shseo shseo   4096  6월  5  2020 tensorflow_datasets\n",
            "drwxrwxr-t  2 shseo shseo   4096 11월  9  2019 thinclient_drives\n",
            "drwxr-xr-x  2 shseo shseo   4096 11월  9  2019 공개\n",
            "drwxr-xr-x  2 shseo shseo   4096  7월 16  2020 다운로드\n",
            "drwxr-xr-x  2 shseo shseo   4096 11월  9  2019 문서\n",
            "drwxr-xr-x  2 shseo shseo   4096 11월  9  2019 바탕화면\n",
            "drwxr-xr-x  2 shseo shseo   4096 11월  9  2019 비디오\n",
            "drwxr-xr-x  2 shseo shseo   4096 11월  9  2019 사진\n",
            "drwxr-xr-x  2 shseo shseo   4096 11월  9  2019 음악\n",
            "drwxr-xr-x  2 shseo shseo   4096 11월  9  2019 템플릿\n",
            "\n",
            "ssh closed...\n"
          ],
          "name": "stdout"
        }
      ]
    }
  ]
}